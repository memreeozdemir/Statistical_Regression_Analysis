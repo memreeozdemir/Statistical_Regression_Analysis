{
  "nbformat": 4,
  "nbformat_minor": 0,
  "metadata": {
    "colab": {
      "provenance": [],
      "toc_visible": true
    },
    "kernelspec": {
      "name": "python3",
      "display_name": "Python 3"
    },
    "language_info": {
      "name": "python"
    }
  },
  "cells": [
    {
      "cell_type": "markdown",
      "source": [
        "# Statistical Regression Analysis\n",
        "\n",
        "Regression analysis is a statistical method that investigates the relationship between one or more independent variables $X$ and a dependent variable $Y$.\n",
        "\n",
        "> $Y$, the dependent variable may sometimes be called as:\n",
        "* regressand,\n",
        "* [endogenous](https://dictionary.cambridge.org/dictionary/english/endogenous?ysclid=lp5khu2u01113902) variable,\n",
        "* response variable,\n",
        "* target variable,\n",
        "* measured variable or\n",
        "* criterion variable\n",
        ">> This variable is also sometimes known as the $\\text{predicted variable}$, but this should not be confused with $\\text{predicted values}$, which are denoted ${\\hat {y}}$.\n",
        "\n",
        "> $X$, the independent variables may sometimes be called as:\n",
        "* regressors,\n",
        "* [exogenous](https://dictionary.cambridge.org/dictionary/english/exogenous) variables,\n",
        "* explanatory variables,\n",
        "* covariates,\n",
        "* input variables,\n",
        "* predictor variables\n",
        "\n",
        "<br>\n",
        "\n",
        "$\\mathbf{Aim}$\n",
        "\n",
        "Regression analysis aims to determine how changes in the independent variables affect or predict the value of the dependent variable. For example,\n",
        "\n",
        "$$ Y= a + bX \\quad or \\quad Y=a + bX^2, \\quad \\text{etc.}$$\n",
        "\n",
        "Here, $Y$ is the $dependent$ variable, whose values depend on the $independent$ variable $X$ that takes on values independently from the variable $Y$."
      ],
      "metadata": {
        "id": "SbktH54bWNqo"
      }
    },
    {
      "cell_type": "markdown",
      "source": [
        "# Linear Regression\n",
        "\n",
        "Linear regression, the most commonly used form of regression, $\\textbf{assumes a linear relationship}$ between the dependent variable and the independent variables. This means that the change in $Y$ can be predicted by a $\\textbf{straight line}$ that represents the relationship between $X$ and $Y$.\n",
        "\n",
        "The equation for linear regression is:\n",
        "\n",
        "<br>\n",
        "\n",
        "$$Y = β_0 + β_1X_1 + β_2X_2 + ... + β_nX_n + ϵ$$\n",
        "\n",
        "where\n",
        "\n",
        "* $Y$ is the dependent variable\n",
        "* $X_1, X_2, ..., X_n$ are the independent variables\n",
        "* $β_0$ is the intercept, or the value of $Y$ when all independent variables are equal to 0\n",
        "* $β_1, β_2, ..., β_n$ are the coefficients for each independent variable\n",
        "* ε is the error term, which represents the variability in the response that is not explained by the independent variables\n",
        "\n",
        "> This equation represents a straight line that best fits the data points.\n",
        "\n",
        "> The intercept term, $β_0$ represents the mean value of $Y$ when all independent variables are zero.\n",
        "\n",
        "> The slope coefficients $β_1, β_2, ..., β_p$ represent the change in $Y$ for a one-unit change in each independent variable, holding all other independent variables constant.\n",
        "\n",
        "$\\textbf{Interpretation of Coefficients:}$\n",
        "\n",
        "A positive coefficient indicates that an increase in the independent variable $X$, which is associated with an increase in the dependent variable $Y$, while a negative coefficient indicates that an increase in the independent variable but is associated with a decrease in the dependent variable $Y$. That is,\n",
        "\n",
        "> $ -β ⇒ Y ↓ \\quad$ and $\\quad +β ⇒ Y \\uparrow$\n",
        "\n",
        "\n",
        "\n",
        "\n",
        "\n",
        "\n",
        "\n"
      ],
      "metadata": {
        "id": "RTo-LTM4UPYT"
      }
    },
    {
      "cell_type": "markdown",
      "source": [
        "## Underlying Rational\n",
        "\n",
        "Let's make a \"number guessing\" game such that\n",
        "\n",
        "* For each round of the game play, system generates 10 numbers and asks players for the next number\n",
        "\n",
        "* then, each player makes a guess\n",
        "\n",
        "* and, whose guess is most close to the generated number will be the winner for the current round.\n",
        "\n",
        "Aim of the play is to make such guesses that produce the $\\text{least squared difference}$ from the generated number in $n$ rounds of the game.\n",
        "\n",
        "That is, if $\\hat{y}_i$ is the guess on round $i$ and the generated number is $y_i$, after $n$ rounds of the game, the winner would be the one who has the smallest sum of squared difference from the generated number in every round:\n",
        "\n",
        "$$S=\\sum_{i=1}^n \\left( \\hat{y}_i - y_i \\right)^2 = \\sum_{i=1}^n r_i^2$$\n",
        "\n",
        "where $r_i = \\hat{y_i} - y_i$ is called the *residual*.\n",
        "\n",
        "So, the **Objective** of our \"guess what's next\" game is to mimimize $S$\n"
      ],
      "metadata": {
        "id": "YrMbWvHG-z0h"
      }
    },
    {
      "cell_type": "code",
      "source": [
        "import random as rnd\n",
        "mu = rnd.randint(20, 50)\n",
        "sig = rnd.randint(10, 20)\n",
        "Y = [round(rnd.normalvariate(mu,sig)) for i in range(10)]\n",
        "print(Y)"
      ],
      "metadata": {
        "colab": {
          "base_uri": "https://localhost:8080/"
        },
        "id": "uXrYiIjx-7bH",
        "outputId": "2059cfbc-fe47-4737-8785-c784765b6b37"
      },
      "execution_count": 2,
      "outputs": [
        {
          "output_type": "stream",
          "name": "stdout",
          "text": [
            "[3, 23, 36, 52, 0, 10, 58, 54, -6, 32]\n"
          ]
        }
      ]
    },
    {
      "cell_type": "code",
      "source": [
        "# Next number generator\n",
        "player1_guess = 25\n",
        "player2_guess = 32\n",
        "y_next = round(rnd.normalvariate(mu,sig))\n",
        "print(\"Generated number: \", y_next)\n",
        "print(\"Residual for Player 1 = %d\" % (player1_guess - y_next)**2)\n",
        "print(\"Residual for Player 2 = %d\" % (player2_guess - y_next)**2)"
      ],
      "metadata": {
        "colab": {
          "base_uri": "https://localhost:8080/"
        },
        "id": "DNgnMQbbELau",
        "outputId": "46303594-54ea-46b0-b0a3-2a8da768b8cf"
      },
      "execution_count": 3,
      "outputs": [
        {
          "output_type": "stream",
          "name": "stdout",
          "text": [
            "Generated number:  28\n",
            "Residual for Player 1 = 9\n",
            "Residual for Player 2 = 16\n"
          ]
        }
      ]
    },
    {
      "cell_type": "markdown",
      "source": [
        "### The best guess on the long run\n",
        "\n",
        "The **best guess** that could produce the least squared difference on the long run would be the **arithmetic mean** of the numbers that the system generated before asking players for the guess.\n",
        "\n",
        "The formula for artihmetic mean is given by\n",
        "\n",
        "$$ \\bar{y} = \\frac{1}{n}\\sum_{i=1}^n y_i $$\n",
        "\n",
        "That is, for two points in one dimension, or rather a line, the closest point to both points is the point that is on the half-way in between them, i.e., the middle of the two points or line.\n",
        "\n",
        "In general, for $n$ points, the closest point ($c$) to $n$ points is the point that the distance from each of the $n$ points sums up to 0 over all points:\n",
        "\n",
        "$$ \\sum_{i=1}^n \\left(y_i - c\\right) = 0$$\n",
        "\n",
        "Here, the $c$ value that holds the equation true is $c = \\bar{y}$."
      ],
      "metadata": {
        "id": "g0c61Y6xM8xX"
      }
    },
    {
      "cell_type": "code",
      "source": [
        "# Empirical validation.\n",
        "mean = sum(Y)/len(Y)\n",
        "\n",
        "sum_of_differences = sum( [(y - mean) for y in Y] )\n",
        "print(\"The values:\", Y, \"\\nn = \", len(Y))\n",
        "print(\"Arithmetic mean (i.e. Best Guess): \", mean)\n",
        "print(\"Sum of differences from the mean: %d\" % sum_of_differences)"
      ],
      "metadata": {
        "colab": {
          "base_uri": "https://localhost:8080/"
        },
        "id": "Bpy67_WJUWUz",
        "outputId": "5954ab58-e9aa-4443-dbcc-0e9c3eaccee8"
      },
      "execution_count": 9,
      "outputs": [
        {
          "output_type": "stream",
          "name": "stdout",
          "text": [
            "The values: [3, 23, 36, 52, 0, 10, 58, 54, -6, 32] \n",
            "n =  10\n",
            "Arithmetic mean (i.e. Best Guess):  26.2\n",
            "Sum of differences from the mean: 0\n"
          ]
        }
      ]
    },
    {
      "cell_type": "markdown",
      "source": [
        "$\\mathbf{Proof}:$\n",
        "\n",
        "Substitude $c$ by $\\bar{y}$ in the equation $\\sum_{i=1}^n \\left(y_i - c\\right)=0$, then we have\n",
        "\n",
        "$$\\sum_{i=1}^n \\left(y_i - \\bar{y}\\right) = 0$$\n",
        "\n",
        "Expand summation to paranthesis:\n",
        "\n",
        "$$\\sum_{i=1}^n y_i - \\sum_{i=1}^n\\bar{y} = 0$$\n",
        "$$\\sum_{i=1}^n y_i - n\\bar{y} = 0$$\n",
        "\n",
        "Substitude $\\bar{y}$ formula:\n",
        "\n",
        "$$\\sum_{i=1}^n y_i - n\\left(\\frac{1}{n}\\sum_{i=1}^n y_i\\right) = 0$$\n",
        "\n",
        "It immediately follows that\n",
        "\n",
        "$$\\sum_{i=1}^n y_i - \\sum_{i=1}^n y_i = 0 $$\n"
      ],
      "metadata": {
        "id": "Xfq3j2vrDR0v"
      }
    },
    {
      "cell_type": "code",
      "source": [
        "# 10 rounds game play\n",
        "best_guess = sum(Y)/len(Y)\n",
        "print(f\"the best guess: {best_guess}\\n\")\n",
        "sum_of_squared_residuals = 0;\n",
        "for i in range(10):\n",
        "  y_next = round(rnd.normalvariate(mu,sig))\n",
        "  r_i_square = (best_guess - y_next)**2\n",
        "  sum_of_squared_residuals += r_i_square\n",
        "  print(f\"Round {i+1}\")\n",
        "  print(\"Generated number: \", y_next)\n",
        "  print(\"squared residual = %d\\n---------------\" % r_i_square)\n",
        "\n",
        "print(\"\\nOver 10 rounds\\n-----------\")\n",
        "print(\"Least sum of squared residuals: %d\" % sum_of_squared_residuals)"
      ],
      "metadata": {
        "id": "-_xM1m4lUFQE"
      },
      "execution_count": null,
      "outputs": []
    },
    {
      "cell_type": "markdown",
      "source": [
        "## Errors vs Residuals\n",
        "\n",
        "In statistics, $errors$ and $residuals$ are two closely related and *easily confused* measures of the deviation/difference of an *observed value* in a statistical sample from its *true value* in the population.\n",
        "\n",
        "> The **error** of an observation is the deviation of the observed value from the true value of a quantity of interest in the population.\n",
        "\n",
        "> The **residual** is the difference between the observed value and the estimated value of the quantity of interest using a statistical sample from the population.\n",
        "\n",
        "### Examples\n",
        "\n",
        "$\\textbf{Statistical }\\textbf{Error}$:\n",
        "\n",
        "Let's say the mean height in a population of 21-year-old men is 1.75 meters. Assume that we randomly choose one man and his height is 1.80 meters tall. Then the \"error\" is 0.05 meters; if the randomly chosen man is 1.70 meters tall, then the \"error\" is −0.05 meters.\n",
        "\n",
        "> Important note: The mean of the entire population is typically unobservable, and hence in practice the statistical error cannot be observed either.\n",
        "\n",
        "<br>\n",
        "\n",
        "$\\textbf{Residual}:$\n",
        "\n",
        "A residual (or fitting deviation), on the other hand, is an observable estimate of the unobservable statistical error:\n",
        "\n",
        "$$ \\hat{ϵ} = \\text{residual}$$\n",
        "\n",
        "Consider the previous example with men's heights and suppose we have a random sample of $n$ people. Then we have:\n",
        "\n",
        "> The difference between the height of each man in the sample ($y_i$) and the unobservable population mean $\\mu$ is a statistical error,\n",
        "\n",
        "$$ \\epsilon_i = y_i - \\mu $$\n",
        "\n",
        "whereas\n",
        "\n",
        "> The difference between the height of each man in the sample ($y_i$) and the observable sample mean $\\bar{y}$ is a residual:\n",
        "\n",
        "$$ r_i = y_i - \\bar{y}$$\n",
        "\n",
        "Note here that the sample mean could serve as a good estimator of the population mean.\n",
        "\n",
        "<br>\n",
        "\n",
        "---\n",
        "\n",
        "### In Regression\n",
        "\n",
        "In regression analysis, the distinction between **errors** and **residuals** is subtle and important, and leads to the concept of *studentized residuals*.\n",
        "\n",
        "The equation for linear regression is:\n",
        "\n",
        "<br>\n",
        "\n",
        "$$Y = β_0 + β_1X_1 + β_2X_2 + ... + β_nX_n + ϵ$$\n",
        "\n",
        "<br>\n",
        "\n",
        "Here, $\\epsilon$ is the error.\n",
        "\n",
        "That is,\n",
        "\n",
        "Given an unobservable function that relates the independent variable $Y$ to the dependent variable $X$, say a line, the deviations of the observed values of $Y$ from this function are the unobservable errors. In other words, we don't know the actual equation of the function that relates the $Y$ to $X$, but if we were to know it, we could calculate the error, though we cannot.\n",
        "\n",
        "On the other hand, if one runs a regression on some data, then the deviations of the observed values of $Y$ from the fitted function (i.e., the predicted values) are the residuals, or the estimate of the error:\n",
        "\n",
        "$$ \\hat{\\epsilon} = \\text{residual} = \\hat{y} - y$$\n",
        "\n",
        "\n",
        "If the linear model is applicable, a scatterplot of residuals plotted against the independent variable should be random about zero with no trend to the residuals."
      ],
      "metadata": {
        "id": "0s1-g7ELMI11"
      }
    },
    {
      "cell_type": "markdown",
      "source": [
        "# Simple Linear Regression\n",
        "\n",
        "Simple linear regression is a statistical method used to model the relationship between a dependent variable and a single independent variable. In other words, it examines how a change in the independent variable is associated with a change in the dependent variable. The relationship is often represented by a straight line, which is why it's called \"linear\" regression.\n",
        "\n",
        "The basic form of a simple linear regression equation is:\n",
        "\n",
        "$$ Y = \\beta_0 + \\beta_1X + \\varepsilon $$\n",
        "\n",
        "The goal of simple linear regression is to estimate the values of $\\beta_0$ and $\\beta_1$ that minimize the sum of the squared differences between the observed values of $Y$ and the values predicted by the regression equation.\n",
        "\n",
        "That is, estimate the values of $\\beta_0$ and $\\beta_1$ that minimize the sum of squared residuals:\n",
        "\n",
        "$$ \\arg\\min_{\\beta_0, \\beta_1} \\hskip0.5em \\sum_{i=1}^{n}\\left(\\hat{y}_i - y_i\\right)^2 \\quad \\text{or}\\quad \\arg\\min_{\\beta_0, \\beta_1} \\hskip0.5em \\sum_{i=1}^{n}r_i^2\\quad \\text{or}\\quad \\arg\\min_{\\beta_0, \\beta_1} \\hskip0.5em \\sum_{i=1}^{n}\\hat{\\varepsilon}_i^2$$"
      ],
      "metadata": {
        "id": "49UOLgKdXSI8"
      }
    },
    {
      "cell_type": "markdown",
      "source": [
        "### Estimation of the parameter values $\\beta_0$ and $\\beta_1$"
      ],
      "metadata": {
        "id": "W9GwAt_u6xct"
      }
    },
    {
      "cell_type": "markdown",
      "source": [
        "#### Least Sequares\n",
        "\n",
        "The goal is to find estimated values $\\hat{\\beta}_0$ and\n",
        "$\\hat{\\beta}_1$ for the parameters $\\beta_0$ and $\\beta_1$, which would provide the \"best\" fit in some sense for the data points.\n",
        "\n",
        "Here the \"best\" fit will be understood as in the least-squares approach: a line that minimizes the sum of squared residuals $\\varepsilon_i$ (differences between actual and predicted values of the dependent variable y), each of which is given by, for any candidate parameter values\n",
        "\n",
        "$$Q = \\arg \\min_{\\beta_0,\\beta_1}\\hspace0.5em\\sum _{i=1}^{n}{\\widehat {\\varepsilon }}_{i}^{\\,2}=\\sum _{i=1}^{n}(y_{i}-\\beta_0 -\\beta_1 x_{i})^{2}$$\n",
        "\n",
        "<br>\n",
        "\n",
        "By expanding to get a quadratic expression in $\\beta_0$ and $\\beta_1$, we can derive values of $\\beta_0$ and $\\beta_1$\n",
        "that minimize the objective function $Q$\n",
        "\n",
        "$$ \\widehat {\\beta_0 }={\\bar {y}}-({\\widehat {\\beta_1 }}{\\bar {x}})$$\n",
        "\n",
        "and\n",
        "\n",
        "$$ \\widehat {\\beta_1 }=\\frac{\\sum_{i=1}^{n}(x_{i}-\\bar{x})(y_{i}-\\bar{y})}{\\sum_{i=1}^{n}(x_{i}-\\bar{x})^2}\\quad\\left[=\\frac{s_{x,y}}{s^2_x}=\\rho_{xy}\\frac{s_y}{s_x}\\right]$$\n",
        "\n",
        "where,\n",
        "\n",
        "* $\\bar {x}$ and $\\bar {y}$ are the mean of the $x_i$ and $y_i$, respectively.\n",
        "* $s^2_x$ and $s_x$ are the sample variance and the sample standard deviation for the observed values of $X$, respectively\n",
        "* $s_y$ is the sample standard deviation for the observed values of $Y$\n",
        "* $s_{x,y}$ is the sample covariance between the observed values of $X$ and $Y$, i.e., variance of $(x_i,y_i)$ pairs.\n",
        "* $ρ_{xy}$ is the correlation between $X$ and $Y$, where $\\rho$ stands for Pearson's correlation coefficient, given by\n",
        "\n",
        "<br>\n",
        "\n",
        "$$\n",
        "\\begin{align}\n",
        "\\rho_{xy}&=\n",
        "\\frac{\\sum_{i=1}^{n}(x_{i}-\\bar{x})(y_{i}-\\bar{y})}\n",
        "{ \\sqrt{\\sum _{i=1}^{n}(x_{i}-\\bar{x})^{2}}\n",
        "  \\sqrt{\\sum _{i=1}^{n}(y_{i}-\\bar{y})^{2}} }\\\\\\\\\n",
        "  &=\\frac{s_{x,y}}{s_{x}\\hspace0.1ems_{y}}\n",
        "\\end{align}\n",
        "$$\n",
        "\n",
        "<br>\n",
        "\n",
        "Substituting the above expressions for $\\widehat{\\beta_0}$ and\n",
        "$\\widehat{\\beta_1}$ into\n",
        "\n",
        "$$ y={\\widehat {\\beta_0 }}+{\\widehat {\\beta_1 }}x,$$\n",
        "\n",
        "yields\n",
        "\n",
        "$$\\frac{y-\\bar{y}}{s_y}=\\rho_{xy}\\frac{x-\\bar{x}}{s_x}$$\n",
        "\n",
        "This shows that $\\rho_{xy}$ is the slope of the regression line of the standardized data points (and that this line passes through the origin). Since $-1 \\le \\rho \\le +1$ then we get that if $x$ is some measurement and $y$ is a followup measurement from the same item, then we expect that $y$ (on average) will be closer to the mean measurement than it was to the original value of $x$. This phenomenon is known as [regressions toward the mean](https://en.wikipedia.org/wiki/Regression_toward_the_mean#Definition_for_simple_linear_regression_of_data_points)."
      ],
      "metadata": {
        "id": "Zc3dN57JXeyh"
      }
    },
    {
      "cell_type": "markdown",
      "source": [
        "#### Example\n",
        "\n",
        "Let's consider a simple example involving the relationship between the number of hours a student studies ($X$) and their exam score ($Y$). We want to use simple linear regression to model and understand this relationship.\n",
        "\n",
        "Let's assume we have the following data:\n",
        "\n",
        "\\begin{align*}\n",
        "\\text{Hours Studied (X)} & : [2, 3, 4, 5, 6, 7, 8, 9, 10, 11] \\\\\n",
        "\\text{Exam Score (Y)} & : [50, 55, 60, 65, 70, 73, 77, 80, 82, 84]\n",
        "\\end{align*}\n",
        "\n",
        "We want to find a linear relationship between the hours studied ($X$) and the exam score ($Y$).\n",
        "\n",
        "The simple linear regression equation is:\n",
        "\n",
        "$$ Y = \\beta_0 + \\beta_1X + \\epsilon $$\n",
        "\n",
        "Here, we are trying to find the values of $\\beta_0$ and $\\beta_1$ that best fit our data. The goal is to minimize the difference between the actual exam scores and the scores predicted by our linear model.\n",
        "\n",
        "For the example, the equation can be rewritten as:\n",
        "\n",
        "$$ \\text{Exam Score} = \\beta_0 + \\beta_1 \\times \\text{Hours Studied} $$\n",
        "\n",
        "In the following cell the parameter values are calculated as $ \\beta_0 = 44 $ and $ \\beta_1 = 4 $. Thus, our regression equation becomes:\n",
        "\n",
        "$$ \\text{Exam Score} = 44 + 4 \\times \\text{Hours Studied} $$\n",
        "\n",
        "Now, if a student studies for 4 hours ($X = 4$), we can predict their exam score $Y$ using the regression equation:\n",
        "\n",
        "$$ \\text{Exam Score} = 40 + 5 \\times 4 = 60 $$\n",
        "\n",
        "So, according to our model, a student who studies for 4 hours is predicted to score 60 on the exam. This is a simplified example, and in practice, more sophisticated statistical techniques are used to estimate the regression parameters and assess the model's accuracy."
      ],
      "metadata": {
        "id": "Q5YHMYlreDO4"
      }
    },
    {
      "cell_type": "code",
      "source": [
        "import math\n",
        "\n",
        "# Example data\n",
        "hours_studied = [2, 3, 4, 5, 6, 7, 8, 9, 10, 11]\n",
        "exam_scores = [50, 55, 60, 65, 70, 73, 77, 80, 82, 84]\n",
        "\n",
        "# Number of data points\n",
        "n = len(hours_studied)\n",
        "\n",
        "# Calculate the mean of X and Y\n",
        "mean_x = sum(hours_studied) / n\n",
        "mean_y = sum(exam_scores) / n\n",
        "\n",
        "# Calculate the slope (beta_1)\n",
        "numerator = sum((hours_studied[i] - mean_x) * (exam_scores[i] - mean_y) for i in range(n))\n",
        "denominator = sum((hours_studied[i] - mean_x) ** 2 for i in range(n))\n",
        "\n",
        "beta_1 = numerator / denominator\n",
        "\n",
        "# Calculate y-intercept (beta_0)\n",
        "beta_0 = mean_y - beta_1 * mean_x\n",
        "\n",
        "# Display the results\n",
        "print(\"Estimated beta_0 (y-intercept): %d\" % math.floor(beta_0))\n",
        "print(\"Estimated beta_1 (slope): %d\" % round(beta_1))\n"
      ],
      "metadata": {
        "colab": {
          "base_uri": "https://localhost:8080/"
        },
        "id": "Vexi_mWAawL8",
        "outputId": "2f3d08e7-d185-45c3-b7af-2aea0824f8ce"
      },
      "execution_count": 14,
      "outputs": [
        {
          "output_type": "stream",
          "name": "stdout",
          "text": [
            "Estimated beta_0 (y-intercept): 44\n",
            "Estimated beta_1 (slope): 4\n"
          ]
        }
      ]
    },
    {
      "cell_type": "markdown",
      "source": [
        "## Visual Inspection"
      ],
      "metadata": {
        "id": "J_-2MFZ-mxsQ"
      }
    },
    {
      "cell_type": "code",
      "source": [
        "import numpy as np\n",
        "import matplotlib.pyplot as plt\n",
        "\n",
        "x = [2, 3, 4, 5, 6, 7, 8, 9, 10, 11]\n",
        "y = [50, 55, 60, 65, 70, 73, 77, 80, 82, 84]\n",
        "\n",
        "# Calculate the mean of the independent variable\n",
        "x_mean = np.mean(x)\n",
        "\n",
        "# Calculate the mean of the dependent variable\n",
        "y_mean = np.mean(y)\n",
        "\n",
        "# Calculate the covariance between the independent and dependent variables\n",
        "covariance = np.cov(x, y)[0, 1]\n",
        "\n",
        "# Calculate the variance of the independent variable\n",
        "variance_x = np.var(x)\n",
        "\n",
        "# Calculate the slope of the fitted line\n",
        "slope = covariance / variance_x\n",
        "\n",
        "# Calculate the intercept of the fitted line\n",
        "intercept = y_mean - slope * x_mean\n",
        "\n",
        "# Calculate the predicted values of the dependent variable\n",
        "y_pred = [slope * x_i + intercept for x_i in x]\n",
        "\n",
        "# Plot the data points and the fitted line\n",
        "plt.plot(x, y, 'o')\n",
        "plt.plot(x, y_pred)\n",
        "\n",
        "# Add labels and colorbar\n",
        "plt.xlabel('# of hours worked')\n",
        "plt.ylabel('Exam Grade')\n",
        "plt.title('Linear Fit for Exam Grade vs Work Hour')\n",
        "plt.show()\n"
      ],
      "metadata": {
        "id": "t2FBfr6Ly4z2",
        "outputId": "e0b5b267-0905-4556-9fdd-c4a14a54160f",
        "colab": {
          "base_uri": "https://localhost:8080/",
          "height": 472
        }
      },
      "execution_count": 20,
      "outputs": [
        {
          "output_type": "display_data",
          "data": {
            "text/plain": [
              "<Figure size 640x480 with 1 Axes>"
            ],
            "image/png": "[encoded data removed]"
          },
          "metadata": {}
        }
      ]
    },
    {
      "cell_type": "markdown",
      "source": [
        "### Residual Analysis\n",
        "\n",
        "Recall that,\n",
        "\n",
        "if one runs a regression on some data, then the deviations of the observed values of Y from the fitted function (i.e., the predicted values) are the residuals, or the estimate of the error:\n",
        "\n",
        "$$ \\hat{\\epsilon} = \\text{residual} = \\hat{y} - y$$\n",
        "\n",
        "> If the linear model is applicable, a scatterplot of residuals plotted against the independent variable should be random about zero with no trend to the residuals."
      ],
      "metadata": {
        "id": "-0AuQ6_zkKOl"
      }
    },
    {
      "cell_type": "code",
      "source": [
        "import matplotlib.pyplot as plt\n",
        "\n",
        "residuals = [y_hat-y for y_hat, y in zip(y_pred, y)]\n",
        "\n",
        "plt.plot(x, residuals, 'o')\n",
        "\n",
        "plt.xlabel('# of hours worked')\n",
        "plt.ylabel('Residual')\n",
        "plt.title('Residual distribution on Independent Variable')\n",
        "plt.show()\n"
      ],
      "metadata": {
        "colab": {
          "base_uri": "https://localhost:8080/",
          "height": 472
        },
        "id": "SFguO0i9kVUs",
        "outputId": "4eee15f7-a250-40c0-c4b7-624101c645e2"
      },
      "execution_count": 21,
      "outputs": [
        {
          "output_type": "display_data",
          "data": {
            "text/plain": [
              "<Figure size 640x480 with 1 Axes>"
            ],
            "image/png": "[encoded data removed]"
          },
          "metadata": {}
        }
      ]
    },
    {
      "cell_type": "markdown",
      "source": [
        "This plot show that residuals do not distribute randomly about zero, instead they appear to be following a trend. This suggest that the actual relationship between $Y$ and $X$ may not be a linear function.\n",
        "\n",
        "The parabolic shape of the fluctuations about\n",
        "$r_{i}=0$ indicates a parabolic model is appropriate.\n",
        "\n",
        "Thus, we may adapt a higher order polinomial model, for example quadratic, to explain the relationship between $Y$ and $X$, such that\n",
        "\n",
        "$$ Y = \\beta_0 + \\beta_1 x^2 + ɛ$$"
      ],
      "metadata": {
        "id": "rEaL1x0vu82y"
      }
    },
    {
      "cell_type": "markdown",
      "source": [
        "# Matrix Notation for Linear Regression\n",
        "\n",
        "The equation for linear regression of the dependent variable $Y$ against $p$ independent variable $X_1,X_2,\\dots,X_p$ is given by:\n",
        "\n",
        "<br>\n",
        "\n",
        "$$Y = β_0 + β_1X_1 + β_2X_2 + ... + β_pX_p + ϵ$$\n",
        "\n",
        "Given a data set\n",
        "\n",
        "$$\\{y_{i},\\,x_{i1},\\ldots ,x_{ip}\\}_{i=1}^{n}$$\n",
        "\n",
        "of $n$ observations on $Y$ and $X_1,X_2,\\dots,X_p$ ($i=1,\\dots,n$), a linear regression model assumes that the relationship between the dependent variable $Y$ and the vector of regressors $\\mathbf{x}_i$ is linear. This relationship is modeled through a *disturbance term* or *error variable* $\\varepsilon$ — an unobserved random variable that adds \"noise\" to the linear relationship between the dependent variable and regressors. Thus the model takes the form\n",
        "\n",
        "$$y_{i}=\\beta_{0}+\\beta_{1}x_{i1}+\\cdots+\\beta_{p}x_{ip}+\\varepsilon_{i}=\\mathbf{x}_{i}^{\\mathsf{T}}{\\boldsymbol {\\beta}}+\\varepsilon_{i},\\qquad i=1,\\ldots ,n,$$\n",
        "\n",
        "where $\\mathsf{T}$ denotes the transpose, so that $\\mathbf{x}_{i}^{\\mathsf{T}}{\\boldsymbol {\\beta}}$ is the inner product between vectors $\\mathbf{x}_i$ and $\\boldsymbol{\\beta}$.\n",
        "\n",
        "That is, we have a dataset that in fact is constituting a system of $n$ linear equations:\n",
        "\n",
        "$$\n",
        "\\begin{align}\n",
        "y_1 &= \\beta_0 + \\beta_1 x_{11} + \\beta_2 x_{12} + \\cdots + \\beta_p x_{1p} + \\varepsilon_{1}\\\\\n",
        "y_2 &= \\beta_0 + \\beta_1 x_{21} + \\beta_2 x_{22} + \\cdots + \\beta_p x_{2p} + \\varepsilon_{2}\\\\\n",
        "\\vdots & \\hspace10em \\vdots\\\\\n",
        "y_n &= \\beta_0 + \\beta_1 x_{n1} + \\beta_2 x_{n2} + \\cdots + \\beta_p x_{np} + \\varepsilon_{n}\n",
        "\\end{align}\n",
        "$$\n",
        "\n",
        "Often these n equations are stacked together as given above and written in matrix notation as\n",
        "\n",
        "$$\\mathbf {y} =\\mathbf {X} {\\boldsymbol {\\beta }}+{\\boldsymbol {\\varepsilon }},$$\n",
        "\n",
        "where\n",
        "\n",
        "$ \\mathbf {y} ={\\begin{bmatrix}y_{1}\\\\y_{2}\\\\\\vdots \\\\y_{n}\\end{bmatrix}}_{n\\times1},\\quad$\n",
        "$\\mathbf{X} ={\\begin{bmatrix}\\mathbf{x}_{1}^{\\mathsf{T}}\\\\\\mathbf{x}_{2}^{\\mathsf{T}}\\\\\\vdots \\\\\\mathbf{x}_{n}^{\\mathsf{T}}\\end{bmatrix}}={\\begin{bmatrix}1&x_{11}&\\cdots &x_{1p}\\\\1&x_{21}&\\cdots &x_{2p}\\\\\\vdots &\\vdots &\\ddots &\\vdots \\\\1&x_{n1}&\\cdots &x_{np}\\end{bmatrix}}_{n\\times(p+1)},\\quad$\n",
        "${\\boldsymbol{\\beta}}={\\begin{bmatrix}\\beta_{0}\\\\\\beta_{1}\\\\\\beta_{2}\\\\\\vdots \\\\\\beta_{p}\\end{bmatrix}}_{(p+1)\\times1},\\quad$\n",
        "$\\boldsymbol{\\varepsilon }={\\begin{bmatrix}\\varepsilon_{1}\\\\\\varepsilon_{2}\\\\\\vdots \\\\\\varepsilon_{n}\\end{bmatrix}}_{n\\times1}.$"
      ],
      "metadata": {
        "id": "SgAeNvsC6QwT"
      }
    },
    {
      "cell_type": "markdown",
      "source": [
        "# Ordinary Least Squares - OLS\n",
        "\n",
        "The OLS method minimizes the sum of squared residuals, and leads to a *closed-form expression* for the estimated value of the unknown parameter vector $\\boldsymbol{\\beta}$:\n",
        "\n",
        "$${\\hat {\\boldsymbol {\\beta }}}=(\\mathbf {X} ^{\\rm {T}}\\mathbf {X} )^{-1}\\mathbf {X} ^{\\rm {T}}\\mathbf {y}$$\n",
        "\n",
        "> Note: Although this equation is correct and can work in many applications, it is not computationally efficient to invert the normal-equations matrix\n",
        "\n",
        "### Derivation\n",
        "\n",
        "The original system of equations is:\n",
        "\n",
        "$$\\mathbf {y} =\\mathbf {X} {\\boldsymbol {\\beta }}.$$\n",
        "\n",
        "Multiply both sides of the equation by $\\mathbf{X}^{\\rm T}$,\n",
        "\n",
        "$$\\mathbf{X}^{\\rm T}\\mathbf {y} =\\mathbf{X}^{\\rm T}\\mathbf {X} {\\boldsymbol {\\beta }}$$\n",
        "\n",
        "Then, solve for $\\boldsymbol{\\beta}$\n",
        "\n",
        "$${\\boldsymbol {\\beta }}= (\\mathbf{X}^{\\rm T}\\mathbf {X})^{-1}\\mathbf{X}^{\\rm T}\\mathbf {y} $$\n"
      ],
      "metadata": {
        "id": "CP2wwsVAUf1T"
      }
    },
    {
      "cell_type": "markdown",
      "source": [
        "## Example\n",
        "\n",
        "Let's use, as an example, a reduced set of Exam Scores:\n",
        "\n",
        "\\begin{align*}\n",
        "\\text{Hours Studied (X)} & : [2, 3, 4, 5] \\\\\n",
        "\\text{Exam Score (Y)} & : [50, 55, 60, 65]\n",
        "\\end{align*}\n",
        "\n",
        "Here, we have a system of 4 equations:\n",
        "\n",
        "\\begin{align*}\n",
        " \\beta_0 + 2 \\beta_1  & = 50 \\\\\n",
        " \\beta_0 + 3 \\beta_1  & = 55 \\\\\n",
        " \\beta_0 + 4 \\beta_1  & = 60 \\\\\n",
        " \\beta_0 + 5 \\beta_1  & = 65\n",
        "\\end{align*}\n",
        "\n",
        "----\n",
        "\n",
        "#### Overdetermined Systems\n",
        "\n",
        "With four equations in two unknowns, this system of equations is overdetermined.\n",
        "\n",
        "> There is no exact solution.\n",
        "\n",
        "To consider approximate solutions, one introduces residuals $r_{1}, r_{2}, r_3, r_{4}$ into the equations:\n",
        "\n",
        "\\begin{align*}\n",
        " \\beta_0 + 2 \\beta_1 + r_1 & = 50 \\\\\n",
        " \\beta_0 + 3 \\beta_1 + r_2 & = 55 \\\\\n",
        " \\beta_0 + 4 \\beta_1 + r_3 & = 60 \\\\\n",
        " \\beta_0 + 5 \\beta_1 + r_4 & = 65\n",
        "\\end{align*}\n",
        "\n",
        "The $i^{th}$ residual $r_{i}$ is the misfit between the $i^{th}$ observation $y_{i}$ and the $i^{th}$ prediction\n",
        "$\\beta_{0} + \\beta_{1}x_{i}$:\n",
        "\n",
        "\\begin{align*}\n",
        " r_1 &= 50 - (\\beta_0 + 2 \\beta_1)\\\\\n",
        " r_2 &= 55 - (\\beta_0 + 3 \\beta_1)\\\\\n",
        " r_3 &= 60 - (\\beta_0 + 4 \\beta_1)\\\\\n",
        " r_4 &= 65 - (\\beta_0 + 5 \\beta_1)\n",
        "\\end{align*}\n",
        "\n",
        "> Among all approximate solutions, we would like to find the one that is \"best\" in some sense.\n",
        "\n",
        "In least squares, we focuses on the sum of the squared residuals, $S$:\n",
        "\n",
        "$$ S = \\sum_{i=1}^{4} r^2_i$$\n",
        "\n",
        "### Gradients and Normal Equations\n",
        "\n",
        "The minimum of the sum of squared residuals is found by setting the gradient to zero. Since the example model contains 2 parameters, $\\beta_0$ and $\\beta_1$ there are 2 gradient equations:\n",
        "\n",
        "$$\\frac{\\partial S}{\\partial \\beta_0}=\\frac{\\partial S}{\\partial r_i}\\frac{\\partial r_i}{\\partial \\beta_0}= 2\\sum_{i=1}^{4}r_i\\frac{\\partial r_i}{\\partial \\beta_0}=0$$\n",
        "\n",
        "$$\\frac{\\partial S}{\\partial \\beta_1}=\\frac{\\partial S}{\\partial r_i}\\frac{\\partial r_i}{\\partial \\beta_1}= 2\\sum_{i=1}^{4}r_i\\frac{\\partial r_i}{\\partial \\beta_1}=0$$\n",
        "\n",
        "These equations are called as *normal equations* and constitute a system of two linear equations in two unknowns. Thus, now, the system has a unique solution and hence the unknow parameters $\\beta_0$ and $\\beta_1$ can be obtained.\n",
        "\n",
        "### Using Matrices\n",
        "\n",
        "This calculation can be expressed in matrix notation as follows. The original system of equations is $\\mathbf{y} =\\mathbf{X}\\boldsymbol{\\beta}$, where\n",
        "\n",
        "$$\\mathbf{y}=\\left[{\\begin{array}{c}50\\\\55\\\\60\\\\65\\end{array}}\\right], \\quad\n",
        "\\mathbf{X}=\\left[{\\begin{array}{cc}1&2\\\\1&3\\\\1&4\\\\1&5\\end{array}}\\right], \\quad\n",
        "\\boldsymbol{\\beta} =\\left[{\\begin{array}{c}\\beta _{0}\\\\\\beta_{1}\\end{array}}\\right].$$\n",
        "\n",
        "Obtain values for $\\beta_0$ and $\\beta_1$ using the equation:\n",
        "\n",
        "$${\\boldsymbol{\\beta}}= (\\mathbf{X}^{\\rm T}\\mathbf {X})^{-1}\\mathbf{X}^{\\rm T}\\mathbf {y} $$\n",
        "\n",
        "That is,\n",
        "\n",
        "$$ \\left[{\\begin{array}{c}\\beta _{0}\\\\\\beta_{1}\\end{array}}\\right]=\\left(\\left[{\\begin{array}{cccc}1&1&1&1\\\\2&3&4&5\\end{array}}\\right]\\cdot\\left[{\\begin{array}{cc}1&2\\\\1&3\\\\1&4\\\\1&5\\end{array}}\\right]\\right)^{-1}\\cdot\\left[{\\begin{array}{cccc}1&1&1&1\\\\2&3&4&5\\end{array}}\\right]\\cdot \\left[{\\begin{array}{c}50\\\\55\\\\60\\\\65\\end{array}}\\right]$$\n"
      ],
      "metadata": {
        "id": "LsfwQAI2ZNX9"
      }
    },
    {
      "cell_type": "markdown",
      "source": [
        "## Running Examples"
      ],
      "metadata": {
        "id": "R6zxr-wn0sls"
      }
    },
    {
      "cell_type": "markdown",
      "source": [
        "### Linear Model for Exam Grades Example"
      ],
      "metadata": {
        "id": "AIv8OBZs6boL"
      }
    },
    {
      "cell_type": "code",
      "source": [
        "import numpy as np\n",
        "import matplotlib.pyplot as plt\n",
        "\n",
        "# Example data\n",
        "hours_studied = [2, 3, 4, 5, 6, 7, 8, 9, 10, 11]\n",
        "exam_scores = [50, 55, 60, 65, 70, 73, 77, 80, 82, 84]\n",
        "\n",
        "# Add a column of ones to X for the intercept term\n",
        "X = np.column_stack((np.ones_like(hours_studied), hours_studied))\n",
        "y = exam_scores\n",
        "\n",
        "# Use the ordinary least squares method to find beta_0 and beta_1\n",
        "# \"@\" is the matrix multiplication operator in Python\n",
        "beta = np.linalg.inv(X.T @ X) @ X.T @ y\n",
        "\n",
        "# Extract beta_0 and beta_1\n",
        "beta_0 = np.floor(beta[0])\n",
        "beta_1 = round(beta[1])\n",
        "\n",
        "# Display the results\n",
        "print(\"Estimated beta_0 (y-intercept): %d\" % math.floor(beta_0))\n",
        "print(\"Estimated beta_1 (slope): %d\" % round(beta_1))\n"
      ],
      "metadata": {
        "colab": {
          "base_uri": "https://localhost:8080/"
        },
        "id": "m8NfymfB_Qo-",
        "outputId": "a953d7b2-01de-4aa7-d85e-239e9688a58e"
      },
      "execution_count": 37,
      "outputs": [
        {
          "output_type": "stream",
          "name": "stdout",
          "text": [
            "Estimated beta_0 (y-intercept): 44\n",
            "Estimated beta_1 (slope): 4\n"
          ]
        }
      ]
    },
    {
      "cell_type": "code",
      "source": [
        "# Calculate the predicted values of the dependent variable\n",
        "y_pred = [beta_1 * x_i + beta_0 for x_i in x]\n",
        "\n",
        "# Plot the data points and the fitted line\n",
        "plt.plot(x, y, 'o')\n",
        "plt.plot(x, y_pred)\n",
        "\n",
        "# Add labels and colorbar\n",
        "plt.xlabel('# of hours worked')\n",
        "plt.ylabel('Exam Grade')\n",
        "plt.title('Linear Fit for Exam Grade vs Work Hour')\n",
        "plt.show()"
      ],
      "metadata": {
        "id": "-zeQIErT6HrD"
      },
      "execution_count": null,
      "outputs": []
    },
    {
      "cell_type": "code",
      "source": [
        "import matplotlib.pyplot as plt\n",
        "\n",
        "residuals = [y_hat-y for y_hat, y in zip(y_pred, y)]\n",
        "\n",
        "plt.plot(x, residuals, 'o')\n",
        "\n",
        "plt.xlabel('# of hours worked')\n",
        "plt.ylabel('Residual')\n",
        "plt.title('Residual distribution on Independent Variable')\n",
        "plt.show()\n"
      ],
      "metadata": {
        "colab": {
          "base_uri": "https://localhost:8080/",
          "height": 472
        },
        "outputId": "fb7b51d6-5778-4941-e2c2-4816019090cf",
        "id": "TNBrLr226Vrg"
      },
      "execution_count": 39,
      "outputs": [
        {
          "output_type": "display_data",
          "data": {
            "text/plain": [
              "<Figure size 640x480 with 1 Axes>"
            ],
            "image/png": "[encoded data removed]"
          },
          "metadata": {}
        }
      ]
    },
    {
      "cell_type": "markdown",
      "source": [
        "### Parabolic Model for Exam Grades Example\n",
        "\n",
        "Results of the residual analysis suggests that the relationship between $X$ and $Y$ is quadratic rather than linear. Thus, let's try to fit to the data at hand:\n",
        "\n",
        "$$y=\\beta_0 + \\beta_1 x + \\beta_2 x^2$$\n",
        "\n",
        "**Important Note**\n",
        "> this model is still linear in the unknown parameters, so linear least squares still applies.\n",
        "\n",
        "The system of equations incorporating residuals is\n",
        "\n",
        "\\begin{alignedat}{2}\n",
        "50&&\\;=\\beta_0+\\beta_{1}(2)+\\beta_{2}(2)^{2}+r_{1}\\\\\n",
        "55&&\\;=\\beta_0+\\beta_{1}(3)+\\beta_{2}(3)^{2}+r_{2}\\\\\n",
        "60&&\\;=\\beta_0+\\beta_{1}(4)+\\beta_{2}(4)^{2}+r_{3}\\\\\n",
        "65&&\\;=\\beta_0+\\beta_{1}(5)+\\beta_{2}(5)^{2}+r_{4}\\\\\n",
        "\\end{alignedat}"
      ],
      "metadata": {
        "id": "ojnazKHd6XjQ"
      }
    },
    {
      "cell_type": "code",
      "source": [
        "import numpy as np\n",
        "\n",
        "# Example data\n",
        "hours_studied = [2, 3, 4, 5, 6, 7, 8, 9, 10, 11]\n",
        "exam_scores = [50, 55, 60, 65, 70, 73, 77, 80, 82, 84]\n",
        "\n",
        "# Add a column of ones to X for the intercept term\n",
        "x = hours_studied\n",
        "x_square = [x**2 for x in hours_studied]\n",
        "X = np.column_stack((np.ones_like(x), x, x_square))\n",
        "print(X)\n",
        "y = exam_scores\n",
        "\n",
        "# Use the ordinary least squares method to find beta_0 and beta_1\n",
        "# \"@\" is the matrix multiplication operator in Python\n",
        "beta = np.linalg.inv(X.T @ X) @ X.T @ y\n",
        "\n",
        "# Display the results\n",
        "print(\"Estimated beta_0 : %.4f\" % beta[0])\n",
        "print(\"Estimated beta_1 : %.4f\" % beta[1])\n",
        "print(\"Estimated beta_2 : %.4f\" % beta[2])\n"
      ],
      "metadata": {
        "colab": {
          "base_uri": "https://localhost:8080/"
        },
        "id": "rBcBXbLf6vZ9",
        "outputId": "06359dcb-02b5-4adc-aaf2-0c2c25b896fa"
      },
      "execution_count": 53,
      "outputs": [
        {
          "output_type": "stream",
          "name": "stdout",
          "text": [
            "[[  1   2   4]\n",
            " [  1   3   9]\n",
            " [  1   4  16]\n",
            " [  1   5  25]\n",
            " [  1   6  36]\n",
            " [  1   7  49]\n",
            " [  1   8  64]\n",
            " [  1   9  81]\n",
            " [  1  10 100]\n",
            " [  1  11 121]]\n",
            "Estimated beta_0 : 36.8970\n",
            "Estimated beta_1 : 6.7970\n",
            "Estimated beta_2 : -0.2273\n"
          ]
        }
      ]
    },
    {
      "cell_type": "code",
      "source": [
        "import matplotlib.pyplot as plt\n",
        "\n",
        "# Plot the original data\n",
        "plt.scatter(hours_studied, exam_scores, label='Original Data')\n",
        "\n",
        "# Plot the fitted parabolic curve\n",
        "x_values = np.array(hours_studied)\n",
        "y_pred = beta[0] + beta[1] * x_values + beta[2] * x_values**2\n",
        "plt.plot(x_values, y_pred, color='red', label='Fitted Parabolic Curve')\n",
        "\n",
        "# Add labels and legend\n",
        "plt.xlabel('Hours Studied')\n",
        "plt.ylabel('Exam Scores')\n",
        "plt.legend()\n",
        "\n",
        "# Display the plot\n",
        "plt.show()"
      ],
      "metadata": {
        "colab": {
          "base_uri": "https://localhost:8080/",
          "height": 449
        },
        "id": "NRdv2vyGCzJP",
        "outputId": "715d581b-a064-4e93-e6ea-03aa65e7a25f"
      },
      "execution_count": 58,
      "outputs": [
        {
          "output_type": "display_data",
          "data": {
            "text/plain": [
              "<Figure size 640x480 with 1 Axes>"
            ],
            "image/png": "[encoded data removed]"
          },
          "metadata": {}
        }
      ]
    },
    {
      "cell_type": "code",
      "source": [
        "# Residual analysis\n",
        "import matplotlib.pyplot as plt\n",
        "\n",
        "y = exam_scores\n",
        "residuals = [y_hat-y for y_hat, y in zip(y_pred, y)]\n",
        "\n",
        "plt.plot(x, residuals, 'o')\n",
        "\n",
        "plt.xlabel('# of hours worked')\n",
        "plt.ylabel('Residual')\n",
        "plt.title('Residual distribution on Independent Variable')\n",
        "plt.show()\n"
      ],
      "metadata": {
        "colab": {
          "base_uri": "https://localhost:8080/",
          "height": 472
        },
        "outputId": "a34f6421-d949-4c98-eaee-8c05a05ab8c3",
        "id": "rGSfFLhYDKzp"
      },
      "execution_count": 59,
      "outputs": [
        {
          "output_type": "display_data",
          "data": {
            "text/plain": [
              "<Figure size 640x480 with 1 Axes>"
            ],
            "image/png": "[encoded data removed]"
          },
          "metadata": {}
        }
      ]
    }
  ]
}